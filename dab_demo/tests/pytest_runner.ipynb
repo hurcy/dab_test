{
 "cells": [
  {
   "cell_type": "code",
   "execution_count": 0,
   "metadata": {
    "application/vnd.databricks.v1+cell": {
     "cellMetadata": {
      "byteLimit": 2048000,
      "rowLimit": 10000
     },
     "inputWidgets": {},
     "nuid": "71ba579d-8b45-48e8-8262-269b388a1de5",
     "showTitle": false,
     "tableResultSettingsMap": {},
     "title": ""
    }
   },
   "outputs": [],
   "source": [
    "%pip install pytest"
   ]
  },
  {
   "cell_type": "code",
   "execution_count": 0,
   "metadata": {
    "application/vnd.databricks.v1+cell": {
     "cellMetadata": {
      "byteLimit": 2048000,
      "rowLimit": 10000
     },
     "inputWidgets": {},
     "nuid": "9f6ce17b-3bee-40ad-bcc9-fa8d403509b8",
     "showTitle": false,
     "tableResultSettingsMap": {},
     "title": ""
    }
   },
   "outputs": [],
   "source": [
    "dbutils.library.restartPython()"
   ]
  },
  {
   "cell_type": "code",
   "execution_count": 0,
   "metadata": {
    "application/vnd.databricks.v1+cell": {
     "cellMetadata": {
      "byteLimit": 2048000,
      "rowLimit": 10000
     },
     "inputWidgets": {},
     "nuid": "a16038fd-2393-4ea7-8c56-512e511592c9",
     "showTitle": false,
     "tableResultSettingsMap": {},
     "title": ""
    }
   },
   "outputs": [],
   "source": [
    "# pytest.main runs our tests directly in the notebook environment, providing\n",
    "# fidelity for Spark and other configuration variables.\n",
    "#\n",
    "# A limitation of this approach is that changes to the test will be\n",
    "# cache by Python's import caching mechanism.\n",
    "#\n",
    "# To iterate on tests during development, we restart the Python process \n",
    "# and thus clear the import cache to pick up changes.\n",
    "\n",
    "\n",
    "import pytest\n",
    "import os\n",
    "import sys\n",
    "from pathlib import Path\n",
    "import pprint\n",
    "\n",
    "# Run all tests in the dab_demo.\n",
    "notebook_path = Path(dbutils.notebook.entry_point.getDbutils().notebook().getContext().notebookPath().get())\n",
    "repo_root = notebook_path.parent.parent\n",
    "repo_root = Path(f'/Workspace/{repo_root}')\n",
    "print('repo_root', repo_root)\n",
    "os.chdir(repo_root)\n",
    "%pwd"
   ]
  },
  {
   "cell_type": "code",
   "execution_count": 0,
   "metadata": {
    "application/vnd.databricks.v1+cell": {
     "cellMetadata": {
      "byteLimit": 2048000,
      "rowLimit": 10000
     },
     "inputWidgets": {},
     "nuid": "3de725c0-f78c-43a8-8f4d-1805bc67d356",
     "showTitle": false,
     "tableResultSettingsMap": {},
     "title": ""
    }
   },
   "outputs": [],
   "source": [
    "\n",
    "\n",
    "sys.path.insert(0, str(repo_root / 'src'))\n",
    "sys.path.insert(0, str(repo_root))\n",
    "\n",
    "# # 충돌 가능성이 있는 경로들 정의\n",
    "tests_path = str(repo_root / 'tests')\n",
    "# suspicious_parent_path = str(repo_root.parent) # <-- 문제의 상위 경로\n",
    "\n",
    "# 충돌 경로 제거\n",
    "if tests_path in sys.path:\n",
    "    print(f\"Removing tests path: {tests_path}\")\n",
    "    sys.path.remove(tests_path)\n",
    "\n",
    "# if suspicious_parent_path in sys.path:\n",
    "#     print(f\"Removing suspicious parent path: {suspicious_parent_path}\")\n",
    "#     sys.path.remove(suspicious_parent_path)\n",
    "\n",
    "print(\"\\nCleaned sys.path:\")\n",
    "pprint.pprint(sys.path)\n",
    "\n",
    "# Skip writing pyc files on a readonly filesystem.\n",
    "sys.dont_write_bytecode = True\n",
    "\n",
    "# 1. 위젯 값 가져오기\n",
    "test_file = dbutils.widgets.get('test_file')\n",
    "try:\n",
    "    from databricks.connect import DatabricksSession\n",
    "\n",
    "    pytest_args = [\n",
    "    \"-p\", \"no:cacheprovider\",\n",
    "    f\"--debug=/tmp/pytestdebug_{os.getpid()}.log\",\n",
    "    \"-v\",\n",
    "    \"--tb=short\",\n",
    "    \"-c\", \"/dev/null\"  # <-- 이 옵션을 추가하여 모든 ini 파일을 무시\n",
    "\n",
    "    ]\n",
    "except ImportError:\n",
    "    pytest_args = [\n",
    "    \"-p\", \"no:cacheprovider\",\n",
    "    # --debug 대신 --debug-log로 파일 위치를 명시적으로 지정\n",
    "    f\"--debug=/tmp/pytestdebug_{os.getpid()}.log\",\n",
    "    \"-v\",\n",
    "    \"--tb=short\"\n",
    "    ]\n",
    "\n",
    "\n",
    "test_file = dbutils.widgets.get('test_file')\n",
    "if test_file:\n",
    "    target_path = repo_root / 'tests' / test_file\n",
    "    if not target_path.is_file():\n",
    "        raise FileNotFoundError(f\"Test file not found at '{target_path}'\")\n",
    "    pytest_args.insert(0, str(target_path))\n",
    "else:\n",
    "    pytest_args.insert(0, \"tests/\")\n",
    "\n",
    "print(f\"Running pytest with arguments: {pytest_args}\")\n",
    "\n",
    "retcode = pytest.main(pytest_args)\n",
    "print(retcode)\n",
    "# assert retcode == 0, 'The pytest invocation failed. See the log above for details.'"
   ]
  }
 ],
 "metadata": {
  "application/vnd.databricks.v1+notebook": {
   "computePreferences": {
    "hardware": {
     "accelerator": null,
     "gpuPoolId": null,
     "memory": null
    }
   },
   "dashboards": [],
   "environmentMetadata": {
    "base_environment": "",
    "environment_version": "2"
   },
   "inputWidgetPreferences": null,
   "language": "python",
   "notebookMetadata": {
    "mostRecentlyExecutedCommandWithImplicitDF": {
     "commandId": 7215339141316789,
     "dataframes": [
      "_sqldf"
     ]
    },
    "pythonIndentUnit": 4
   },
   "notebookName": "pytest_runner",
   "widgets": {
    "test_file": {
     "currentValue": "",
     "nuid": "2f45f4b6-06ef-4faf-9484-a0fc8dd37454",
     "typedWidgetInfo": {
      "autoCreated": false,
      "defaultValue": "test_hello_world.py",
      "label": "",
      "name": "test_file",
      "options": {
       "widgetDisplayType": "Text",
       "validationRegex": null
      },
      "parameterDataType": "String"
     },
     "widgetInfo": {
      "widgetType": "text",
      "defaultValue": "test_hello_world.py",
      "label": "",
      "name": "test_file",
      "options": {
       "widgetType": "text",
       "autoCreated": false,
       "validationRegex": null
      }
     }
    }
   }
  },
  "language_info": {
   "name": "python"
  }
 },
 "nbformat": 4,
 "nbformat_minor": 0
}
