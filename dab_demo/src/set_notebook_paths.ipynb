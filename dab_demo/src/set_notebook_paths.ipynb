{
 "cells": [
  {
   "cell_type": "code",
   "execution_count": 0,
   "metadata": {
    "application/vnd.databricks.v1+cell": {
     "cellMetadata": {
      "byteLimit": 2048000,
      "rowLimit": 10000
     },
     "inputWidgets": {},
     "nuid": "84011da3-1f1d-4b75-8f61-3e720e4c1adb",
     "showTitle": false,
     "tableResultSettingsMap": {},
     "title": ""
    }
   },
   "outputs": [],
   "source": [
    "import sys\n",
    "import os\n",
    "if '.bundle' in os.getcwd():\n",
    "    bundle_root = os.getcwd()\n",
    "    common_framework = os.path.abspath(os.getcwd() + '/../../common_framework/src')\n",
    "else:\n",
    "    bundle_root = os.getcwd()\n",
    "    common_framework = os.getcwd() + '/../common_framework/src'\n",
    "sys.path.append(bundle_root)\n",
    "sys.path.append(common_framework)\n",
    "\n",
    "print(\"bundle_root:      \" + bundle_root)\n",
    "print(\"common_framework: \" + common_framework)\n",
    "print(sys.path)"
   ]
  }
 ],
 "metadata": {
  "application/vnd.databricks.v1+notebook": {
   "computePreferences": null,
   "dashboards": [],
   "environmentMetadata": {
    "base_environment": "",
    "environment_version": "2"
   },
   "language": "python",
   "notebookMetadata": {
    "pythonIndentUnit": 4
   },
   "notebookName": "set_notebook_paths",
   "widgets": {}
  },
  "language_info": {
   "name": "python"
  }
 },
 "nbformat": 4,
 "nbformat_minor": 0
}
